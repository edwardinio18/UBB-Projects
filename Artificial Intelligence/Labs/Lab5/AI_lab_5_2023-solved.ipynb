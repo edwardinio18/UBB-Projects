{
 "cells": [
  {
   "cell_type": "markdown",
   "id": "b8210b19",
   "metadata": {},
   "source": [
    "## A.I. Assignment 5\n",
    "\n",
    "## Learning Goals\n",
    "\n",
    "By the end of this lab, you should be able to:\n",
    "* Get more familiar with tensors in pytorch \n",
    "* Create a simple multilayer perceptron model with pytorch\n",
    "* Visualise the parameters\n",
    "\n",
    "\n",
    "### Task\n",
    "\n",
    "Build a fully connected feed forward network that adds two bits. Determine the a propper achitecture for this network (what database you use for this problem? how many layers? how many neurons on each layer? what is the activation function? what is the loss function? etc)\n",
    "\n",
    "Create at least 3 such networks and compare their performance (how accurate they are?, how farst they are trained to get at 1 accuracy?)\n",
    "\n",
    "Display for the best one the weights for each layer.\n"
   ]
  },
  {
   "cell_type": "code",
   "execution_count": 1,
   "id": "e3614e5f",
   "metadata": {},
   "outputs": [],
   "source": [
    "import torch\n",
    "import torch.nn as nn\n",
    "from collections import OrderedDict"
   ]
  },
  {
   "cell_type": "code",
   "execution_count": 2,
   "id": "5ee7e7d7",
   "metadata": {},
   "outputs": [],
   "source": [
    "# your code here\n",
    "\n",
    "model1 = nn.Sequential(OrderedDict([\n",
    "    ('hidden', nn.Linear(2, 2)),\n",
    "    ('activation', nn.ReLU()),\n",
    "    ('output', nn.Linear(2, 1))\n",
    "]))\n",
    "\n",
    "model2 = nn.Sequential(OrderedDict([\n",
    "    ('hidden1', nn.Linear(2, 3)),\n",
    "    ('activation1', nn.ReLU()),\n",
    "    ('hidden2', nn.Linear(3, 2)),\n",
    "    ('activation2', nn.ReLU()),\n",
    "    ('output', nn.Linear(2, 1))\n",
    "]))\n",
    "\n",
    "model3 = nn.Sequential(OrderedDict([\n",
    "    ('hidden1', nn.Linear(2, 4)),\n",
    "    ('activation1', nn.ReLU()),\n",
    "    ('hidden2', nn.Linear(4, 3)),\n",
    "    ('activation2', nn.ReLU()),\n",
    "    ('hidden3', nn.Linear(3, 2)),\n",
    "    ('activation3', nn.ReLU()),\n",
    "    ('output', nn.Linear(2, 1))\n",
    "]))"
   ]
  },
  {
   "cell_type": "code",
   "execution_count": 3,
   "id": "665ae958",
   "metadata": {},
   "outputs": [
    {
     "name": "stdout",
     "output_type": "stream",
     "text": [
      "Sequential(\n",
      "  (hidden): Linear(in_features=2, out_features=2, bias=True)\n",
      "  (activation): ReLU()\n",
      "  (output): Linear(in_features=2, out_features=1, bias=True)\n",
      ")\n",
      "\n",
      "\n",
      "Sequential(\n",
      "  (hidden1): Linear(in_features=2, out_features=3, bias=True)\n",
      "  (activation1): ReLU()\n",
      "  (hidden2): Linear(in_features=3, out_features=2, bias=True)\n",
      "  (activation2): ReLU()\n",
      "  (output): Linear(in_features=2, out_features=1, bias=True)\n",
      ")\n",
      "\n",
      "\n",
      "Sequential(\n",
      "  (hidden1): Linear(in_features=2, out_features=4, bias=True)\n",
      "  (activation1): ReLU()\n",
      "  (hidden2): Linear(in_features=4, out_features=3, bias=True)\n",
      "  (activation2): ReLU()\n",
      "  (hidden3): Linear(in_features=3, out_features=2, bias=True)\n",
      "  (activation3): ReLU()\n",
      "  (output): Linear(in_features=2, out_features=1, bias=True)\n",
      ")\n"
     ]
    }
   ],
   "source": [
    "print(model1)\n",
    "print(\"\\n\")\n",
    "print(model2)\n",
    "print(\"\\n\")\n",
    "print(model3)"
   ]
  },
  {
   "cell_type": "code",
   "execution_count": 4,
   "id": "e26f0d3e",
   "metadata": {},
   "outputs": [
    {
     "name": "stdout",
     "output_type": "stream",
     "text": [
      "tensor([[0., 0.],\n",
      "        [0., 1.],\n",
      "        [1., 0.],\n",
      "        [1., 1.]])\n"
     ]
    }
   ],
   "source": [
    "# your code here\n",
    "data_in = torch.tensor([[0, 0], [0, 1], [1, 0], [1, 1]], dtype=torch.float32)\n",
    "\n",
    "print(data_in)"
   ]
  },
  {
   "cell_type": "code",
   "execution_count": 5,
   "id": "4fb16bbc",
   "metadata": {},
   "outputs": [
    {
     "name": "stdout",
     "output_type": "stream",
     "text": [
      "tensor([[0.],\n",
      "        [1.],\n",
      "        [1.],\n",
      "        [0.]])\n"
     ]
    }
   ],
   "source": [
    "# your code here\n",
    "\n",
    "data_target = torch.tensor([[0], [1], [1], [0]], dtype=torch.float32)\n",
    "\n",
    "print(data_target)"
   ]
  },
  {
   "cell_type": "code",
   "execution_count": 6,
   "id": "69d920ed",
   "metadata": {},
   "outputs": [],
   "source": [
    "# your code here\n",
    "\n",
    "criterion = nn.MSELoss()\n",
    "\n",
    "optimizer1 = torch.optim.SGD(model1.parameters(), lr=0.1)\n",
    "optimizer2 = torch.optim.SGD(model2.parameters(), lr=0.1)\n",
    "optimizer3 = torch.optim.SGD(model3.parameters(), lr=0.1)"
   ]
  },
  {
   "cell_type": "code",
   "execution_count": 7,
   "id": "cde91f6f",
   "metadata": {},
   "outputs": [
    {
     "name": "stdout",
     "output_type": "stream",
     "text": [
      "Model 1\n",
      "Accuracy: 0.0\n",
      "Model 2\n",
      "Accuracy: 1.0\n",
      "Model 3\n",
      "Accuracy: 0.0\n"
     ]
    }
   ],
   "source": [
    "# your code here\n",
    "\n",
    "for i, model in enumerate([model1, model2, model3]):\n",
    "    print(\"Model\", i+1)\n",
    "    for epoch in range(10000):\n",
    "        y_pred = model(data_in)\n",
    "        loss = criterion(y_pred, data_target)\n",
    "\n",
    "        optimizer = [optimizer1, optimizer2, optimizer3][i]\n",
    "        optimizer.zero_grad()\n",
    "        loss.backward()\n",
    "        optimizer.step()\n",
    "\n",
    "        if loss.item() < 0.0001:\n",
    "            print(\"Accuracy:\", 1.0)\n",
    "            break\n",
    "    else:\n",
    "        print(\"Accuracy:\", 0.0)\n"
   ]
  },
  {
   "cell_type": "code",
   "execution_count": 8,
   "id": "dff3ec1a",
   "metadata": {},
   "outputs": [
    {
     "name": "stdout",
     "output_type": "stream",
     "text": [
      "Accuracy: 50.00%\n"
     ]
    }
   ],
   "source": [
    "# your code here\n",
    "\n",
    "with torch.no_grad():\n",
    "    output = model(data_in)\n",
    "    predicted = (output > 0).float()\n",
    "    accuracy = (predicted == data_target).float().mean()\n",
    "    print('Accuracy: {:.2f}%'.format(accuracy.item() * 100))\n"
   ]
  },
  {
   "cell_type": "code",
   "execution_count": 9,
   "id": "c1a7518b",
   "metadata": {},
   "outputs": [
    {
     "name": "stdout",
     "output_type": "stream",
     "text": [
      "hidden1.weight tensor([[-0.0970, -0.2820],\n",
      "        [ 0.8533,  0.7946],\n",
      "        [ 1.0282,  1.0268]])\n",
      "hidden1.bias tensor([ 0.6021,  0.1760, -1.0328])\n",
      "hidden2.weight tensor([[-0.2504,  0.7922, -1.3628],\n",
      "        [-0.2216,  0.3488, -0.3087]])\n",
      "hidden2.bias tensor([ 0.2203, -0.3527])\n",
      "output.weight tensor([[ 1.4320, -0.6132]])\n",
      "output.bias tensor([-0.2940])\n"
     ]
    }
   ],
   "source": [
    "# your code here\n",
    "\n",
    "best_model = model2\n",
    "for name, param in best_model.named_parameters():\n",
    "    if param.requires_grad:\n",
    "        print(name, param.data)"
   ]
  },
  {
   "cell_type": "code",
   "execution_count": 13,
   "id": "4cdf09ba",
   "metadata": {},
   "outputs": [
    {
     "name": "stdout",
     "output_type": "stream",
     "text": [
      "Adder(\n",
      "  (hidden): Linear(in_features=2, out_features=4, bias=True)\n",
      "  (output): Linear(in_features=4, out_features=1, bias=True)\n",
      "  (activation): Sigmoid()\n",
      ")\n",
      "Adder(\n",
      "  (hidden): Linear(in_features=2, out_features=4, bias=True)\n",
      "  (output): Linear(in_features=4, out_features=1, bias=True)\n",
      "  (activation): Sigmoid()\n",
      ")\n",
      "Adder(\n",
      "  (hidden): Linear(in_features=2, out_features=4, bias=True)\n",
      "  (output): Linear(in_features=4, out_features=1, bias=True)\n",
      "  (activation): Sigmoid()\n",
      ")\n",
      "Epoch 0 Loss: 0.2746634781360626\n",
      "Epoch 1000 Loss: 0.24023084342479706\n",
      "Epoch 2000 Loss: 0.13824117183685303\n",
      "Epoch 3000 Loss: 0.05536113679409027\n",
      "Epoch 4000 Loss: 0.02541954070329666\n",
      "Epoch 5000 Loss: 0.013206344097852707\n",
      "Epoch 6000 Loss: 0.007403796538710594\n",
      "Epoch 7000 Loss: 0.004350465722382069\n",
      "Epoch 8000 Loss: 0.0026346836239099503\n",
      "Epoch 9000 Loss: 0.0016281110001727939\n",
      "Accuracy of Model 1: 1.0\n",
      "Accuracy of Model 2: 0.5\n",
      "Accuracy of Model 3: 0.5\n",
      "hidden.weight tensor([[ 7.1596, -5.1880],\n",
      "        [-4.5735,  6.4423],\n",
      "        [ 5.0239, -6.5150],\n",
      "        [ 4.4431,  5.4701]])\n",
      "hidden.bias tensor([ 1.7350,  2.5034, -2.8921, -0.5261])\n",
      "output.weight tensor([[-6.6984, -3.6578,  4.7831,  4.6488]])\n",
      "output.bias tensor([2.3563])\n"
     ]
    }
   ],
   "source": [
    "import torch\n",
    "import torch.nn as nn\n",
    "\n",
    "class Adder(nn.Module):\n",
    "    def __init__(self):\n",
    "        super().__init__()\n",
    "        self.hidden = nn.Linear(2, 4)\n",
    "        self.output = nn.Linear(4, 1)\n",
    "        self.activation = nn.Sigmoid()\n",
    "\n",
    "    def forward(self, x):\n",
    "        x = self.activation(self.hidden(x))\n",
    "        x = self.activation(self.output(x))\n",
    "        return x\n",
    "\n",
    "model1 = Adder()\n",
    "model2 = Adder()\n",
    "model3 = Adder()\n",
    "\n",
    "print(model1)\n",
    "print(model2)\n",
    "print(model3)\n",
    "\n",
    "data_in = torch.tensor([[0, 0], [0, 1], [1, 0], [1, 1]], dtype=torch.float)\n",
    "data_target = torch.tensor([[0], [1], [1], [0]], dtype=torch.float)\n",
    "\n",
    "criterion = nn.MSELoss()\n",
    "optimizer = torch.optim.Adam(model1.parameters())\n",
    "\n",
    "for epoch in range(10000):\n",
    "    optimizer.zero_grad()\n",
    "    output = model1(data_in)\n",
    "    loss = criterion(output, data_target)\n",
    "    loss.backward()\n",
    "    optimizer.step()\n",
    "    if epoch % 1000 == 0:\n",
    "        print(f\"Epoch {epoch} Loss: {loss.item()}\")\n",
    "\n",
    "with torch.no_grad():\n",
    "    output1 = model1(data_in)\n",
    "    output2 = model2(data_in)\n",
    "    output3 = model3(data_in)\n",
    "\n",
    "    accuracy1 = ((output1 > 0.5) == data_target).sum().item() / data_target.shape[0]\n",
    "    accuracy2 = ((output2 > 0.5) == data_target).sum().item() / data_target.shape[0]\n",
    "    accuracy3 = ((output3 > 0.5) == data_target).sum().item() / data_target.shape[0]\n",
    "\n",
    "    print(f\"Accuracy of Model 1: {accuracy1}\")\n",
    "    print(f\"Accuracy of Model 2: {accuracy2}\")\n",
    "    print(f\"Accuracy of Model 3: {accuracy3}\")\n",
    "\n",
    "for name, param in model1.named_parameters():\n",
    "    if param.requires_grad:\n",
    "        print(name, param.data)"
   ]
  },
  {
   "cell_type": "code",
   "execution_count": null,
   "id": "a20c469b",
   "metadata": {},
   "outputs": [],
   "source": []
  }
 ],
 "metadata": {
  "kernelspec": {
   "display_name": "Python 3 (ipykernel)",
   "language": "python",
   "name": "python3"
  },
  "language_info": {
   "codemirror_mode": {
    "name": "ipython",
    "version": 3
   },
   "file_extension": ".py",
   "mimetype": "text/x-python",
   "name": "python",
   "nbconvert_exporter": "python",
   "pygments_lexer": "ipython3",
   "version": "3.11.2"
  }
 },
 "nbformat": 4,
 "nbformat_minor": 5
}
